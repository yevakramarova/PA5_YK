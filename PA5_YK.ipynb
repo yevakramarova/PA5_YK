{
 "cells": [
  {
   "cell_type": "markdown",
   "id": "1c2e1180-d98b-4c9b-9eb6-b659ecfe3e0d",
   "metadata": {},
   "source": [
    "# Programming Assignment 5\n",
    "---\n",
    "**Author:** Yeva Kramarova  \n",
    "**Version:** 1.0  \n",
    "**Semester:** Spring 2024 \n",
    "\n",
    "This *notebook* contains my solution(s) to **Programming Assignment 5**\n",
    "\n",
    "- Problem 1: Language Translator.\n",
    "- Problem 2: Translating Morse Code.\n",
    "- Problem 3: Comparing Minors/Majors.\n",
    "- Problem 4: Working with NumPy."
   ]
  },
  {
   "cell_type": "markdown",
   "id": "0caf9fbc-c538-4821-8baf-72eddb879fa0",
   "metadata": {},
   "source": [
    "### Problem 1 - Language Translator"
   ]
  },
  {
   "cell_type": "code",
   "execution_count": 1,
   "id": "024c41dc-487f-43e4-9977-3ffdeab26e88",
   "metadata": {
    "tags": []
   },
   "outputs": [
    {
     "name": "stdin",
     "output_type": "stream",
     "text": [
      "Enter a word to translate from English to Ukrainian (enter 0 to stop):  couch\n"
     ]
    },
    {
     "name": "stdout",
     "output_type": "stream",
     "text": [
      "The Ukrainian word for COUCH is ДИВАН.\n"
     ]
    },
    {
     "name": "stdin",
     "output_type": "stream",
     "text": [
      "Enter a word to translate from English to Ukrainian (enter 0 to stop):  dog\n"
     ]
    },
    {
     "name": "stdout",
     "output_type": "stream",
     "text": [
      "The Ukrainian word for DOG is СОБАКА.\n"
     ]
    },
    {
     "name": "stdin",
     "output_type": "stream",
     "text": [
      "Enter a word to translate from English to Ukrainian (enter 0 to stop):  chair\n"
     ]
    },
    {
     "name": "stdout",
     "output_type": "stream",
     "text": [
      "The Ukrainian word for CHAIR is СТІЛЬЧИК.\n"
     ]
    },
    {
     "name": "stdin",
     "output_type": "stream",
     "text": [
      "Enter a word to translate from English to Ukrainian (enter 0 to stop):  man\n"
     ]
    },
    {
     "name": "stdout",
     "output_type": "stream",
     "text": [
      "The Ukrainian word for MAN is ЧОЛОВІК.\n"
     ]
    },
    {
     "name": "stdin",
     "output_type": "stream",
     "text": [
      "Enter a word to translate from English to Ukrainian (enter 0 to stop):  woman\n"
     ]
    },
    {
     "name": "stdout",
     "output_type": "stream",
     "text": [
      "The Ukrainian word for WOMAN is ЖІНКА.\n"
     ]
    },
    {
     "name": "stdin",
     "output_type": "stream",
     "text": [
      "Enter a word to translate from English to Ukrainian (enter 0 to stop):  bear\n"
     ]
    },
    {
     "name": "stdout",
     "output_type": "stream",
     "text": [
      "The Ukrainian word for BEAR is ВЕДМІДЬ.\n"
     ]
    },
    {
     "name": "stdin",
     "output_type": "stream",
     "text": [
      "Enter a word to translate from English to Ukrainian (enter 0 to stop):  cat\n"
     ]
    },
    {
     "name": "stdout",
     "output_type": "stream",
     "text": [
      "The Ukrainian word for CAT is КІТ.\n"
     ]
    },
    {
     "name": "stdin",
     "output_type": "stream",
     "text": [
      "Enter a word to translate from English to Ukrainian (enter 0 to stop):  0\n"
     ]
    }
   ],
   "source": [
    "\n",
    "translation_dict = {\n",
    "    \"couch\": \"диван\",\n",
    "    \"chair\": \"стільчик\",\n",
    "    \"man\": \"чоловік\",\n",
    "    \"woman\": \"жінка\",\n",
    "    \"bear\": \"ведмідь\",\n",
    "    \"cat\": \"кіт\",\n",
    "    \"dog\": \"собака\"\n",
    "}\n",
    "\n",
    "while True:\n",
    "    word = input(\"Enter a word to translate from English to Ukrainian (enter 0 to stop): \").lower()\n",
    "    if word == \"0\":\n",
    "        break\n",
    "    elif word in translation_dict:\n",
    "        print(f\"The Ukrainian word for {word.upper()} is {translation_dict[word].upper()}.\")\n",
    "    else:\n",
    "        print(f\"The Ukrainian word for {word.upper()} is not in this dictionary.\")\n"
   ]
  },
  {
   "cell_type": "markdown",
   "id": "2d5d12c8-2e38-4cff-a401-8b345cc50b73",
   "metadata": {},
   "source": [
    "### Problem 2 - Translating Morse Code"
   ]
  },
  {
   "cell_type": "code",
   "execution_count": 2,
   "id": "c09ee614-ba17-4944-9da4-d0e509b80182",
   "metadata": {
    "tags": []
   },
   "outputs": [
    {
     "name": "stdin",
     "output_type": "stream",
     "text": [
      "Enter a sentence to translate to Morse Code (enter 'q' to quit):  AB\n"
     ]
    },
    {
     "name": "stdout",
     "output_type": "stream",
     "text": [
      "Morse Code Translation: .- -...\n"
     ]
    },
    {
     "name": "stdin",
     "output_type": "stream",
     "text": [
      "Enter a sentence to translate to Morse Code (enter 'q' to quit):  HELLO\n"
     ]
    },
    {
     "name": "stdout",
     "output_type": "stream",
     "text": [
      "Morse Code Translation: .... . .-.. .-.. ---\n"
     ]
    },
    {
     "name": "stdin",
     "output_type": "stream",
     "text": [
      "Enter a sentence to translate to Morse Code (enter 'q' to quit):  HOW ARE YOU\n"
     ]
    },
    {
     "name": "stdout",
     "output_type": "stream",
     "text": [
      "Morse Code Translation: .... --- .-- .- .-. . -.-- --- ..-\n"
     ]
    },
    {
     "name": "stdin",
     "output_type": "stream",
     "text": [
      "Enter a sentence to translate to Morse Code (enter 'q' to quit):  q\n"
     ]
    }
   ],
   "source": [
    "\n",
    "morse_code_dict = {\n",
    "    'A': '.-', 'B': '-...', 'C': '-.-.', 'D': '-..', 'E': '.', 'F': '..-.', 'G': '--.', 'H': '....', 'I': '..', \n",
    "    'J': '.---', 'K': '-.-', 'L': '.-..', 'M': '--', 'N': '-.', 'O': '---', 'P': '.--.', 'Q': '--.-', 'R': '.-.', \n",
    "    'S': '...', 'T': '-', 'U': '..-', 'V': '...-', 'W': '.--', 'X': '-..-', 'Y': '-.--', 'Z': '--..',\n",
    "    '0': '-----', '1': '.----', '2': '..---', '3': '...--', '4': '....-', '5': '.....', '6': '-....', '7': '--...', \n",
    "    '8': '---..', '9': '----.'\n",
    "}\n",
    "\n",
    "def translate_to_morse(sentence):\n",
    "    morse_code = ''\n",
    "    for char in sentence.upper():\n",
    "        if char.isalnum():\n",
    "            morse_code += morse_code_dict[char] + ' '\n",
    "    return morse_code.strip()\n",
    "\n",
    "while True:\n",
    "    message = input(\"Enter a sentence to translate to Morse Code (enter 'q' to quit): \")\n",
    "    if message.lower() == 'q':\n",
    "        break\n",
    "    else:\n",
    "        print(\"Morse Code Translation:\", translate_to_morse(message))\n"
   ]
  },
  {
   "cell_type": "markdown",
   "id": "fd3206c7-16fd-49a4-93f8-58a2064e515b",
   "metadata": {},
   "source": [
    "### Problem 3 - Comparing Minors/Majors"
   ]
  },
  {
   "cell_type": "code",
   "execution_count": 3,
   "id": "e5332d84-d88c-42d6-b373-5824c785895e",
   "metadata": {
    "tags": []
   },
   "outputs": [
    {
     "name": "stdout",
     "output_type": "stream",
     "text": [
      "Courses overlapping between Business Administration and Business Analytics minors: {'BUSA103'}\n",
      "Courses required for students minoring in Business Administration and Computer Science: {'CS310', 'BUSA103', 'CS130', 'MATH125', 'BUSA305', 'ECON110', 'ACCT101', 'CS215', 'CS131', 'BUSA203', 'CS305', 'CS330'}\n",
      "Courses only in Business Administration minor: {'MATH125', 'BUSA305', 'ECON110', 'ACCT101', 'BUSA203'}\n",
      "No overlapping courses between Computer Science major and Data Science major: True\n",
      "Business Analytics minor completely subsumed by Data Science major: True\n"
     ]
    }
   ],
   "source": [
    "cs_minor = {'CS130', 'CS131', 'CS215', 'CS305', 'CS310', 'CS330'}\n",
    "bus_adm_minor = {'BUSA103', 'BUSA203', 'BUSA305', 'MATH125', 'ACCT101', 'ECON110'}\n",
    "bus_anl_minor = {'BUSA103', 'BUSA245', 'BUSA346', 'CS150', 'DS160', 'DS300'}\n",
    "ds_major = {'BUSA103', 'BUSA245', 'BUSA346', 'CS150', 'DS160', 'DS300'}\n",
    "\n",
    "overlap_courses = bus_adm_minor.intersection(bus_anl_minor)\n",
    "print(\"Courses overlapping between Business Administration and Business Analytics minors:\", overlap_courses)\n",
    "\n",
    "courses_required = bus_adm_minor.union(cs_minor)\n",
    "print(\"Courses required for students minoring in Business Administration and Computer Science:\", courses_required)\n",
    "\n",
    "courses_only_in_bus_adm = bus_adm_minor.difference(bus_anl_minor)\n",
    "print(\"Courses only in Business Administration minor:\", courses_only_in_bus_adm)\n",
    "\n",
    "no_overlap = cs_minor.isdisjoint(ds_major)\n",
    "print(\"No overlapping courses between Computer Science major and Data Science major:\", no_overlap)\n",
    "\n",
    "subsumed = bus_anl_minor.issubset(ds_major)\n",
    "print(\"Business Analytics minor completely subsumed by Data Science major:\", subsumed)\n",
    " "
   ]
  },
  {
   "cell_type": "markdown",
   "id": "f47a63c2-c9a1-4361-93d9-a397d3b74c76",
   "metadata": {},
   "source": [
    "### Problem 4 - Working with NumPy"
   ]
  },
  {
   "cell_type": "code",
   "execution_count": 4,
   "id": "edb7d44e-5668-464d-9487-1a6da32b054e",
   "metadata": {
    "tags": []
   },
   "outputs": [
    {
     "name": "stdout",
     "output_type": "stream",
     "text": [
      "Array 1:\n",
      "[[18 18 17 14  5]\n",
      " [17  0 10 17 13]\n",
      " [ 4  0  1  9 17]\n",
      " [ 4  7 14 12 11]\n",
      " [ 5 19  5 10  5]]\n",
      "\n",
      "Array 2:\n",
      "[[ 0  3 10  6 18]\n",
      " [ 2 19  2  6 14]\n",
      " [ 2  0 12 12  9]\n",
      " [19 16  4 10  8]\n",
      " [ 3 13 13  1  2]]\n",
      "\n",
      "Matrix Product:\n",
      "[[351 685 541 565 851]\n",
      " [382 492 527 405 558]\n",
      " [224 377 309 143 187]\n",
      " [303 480 413 365 414]\n",
      " [253 601 253 309 491]]\n",
      "\n",
      "Dot Product:\n",
      "1816\n",
      "\n",
      "Determinant of Array 1: -326344.00000000006\n",
      "Inverse of Array 1:\n",
      "[[ 0.08465913 -0.0084175   0.04959491 -0.08254786 -0.04979102]\n",
      " [ 0.0331552  -0.04582588  0.02973856 -0.01984103  0.02853124]\n",
      " [ 0.04781458 -0.0452927  -0.00470975  0.07166364 -0.07170041]\n",
      " [-0.16029711  0.15177849 -0.13961954  0.04832937  0.13405486]\n",
      " [ 0.06213076 -0.07570845  0.12134741 -0.01037862 -0.05503702]]\n",
      "\n",
      "Determinant of Array 2: -721979.9999999998\n",
      "Inverse of Array 2:\n",
      "[[ 0.03926702 -0.05901272 -0.0429818   0.06352531 -0.00099726]\n",
      " [-0.03664921  0.04936425 -0.00094185 -0.00891991  0.0242112 ]\n",
      " [ 0.02225131 -0.03915482  0.00865952 -0.00622455  0.05975235]\n",
      " [-0.08769634  0.05179506  0.11377046 -0.01076207 -0.04221724]\n",
      " [ 0.07853403 -0.00373972 -0.04257736  0.00853209 -0.02315854]]\n",
      "\n",
      "Combined 2D Array:\n",
      "[[0.         0.05263158 0.10526316 0.15789474]\n",
      " [0.21052632 0.26315789 0.31578947 0.36842105]\n",
      " [0.42105263 0.47368421 0.52631579 0.57894737]\n",
      " [0.63157895 0.68421053 0.73684211 0.78947368]\n",
      " [0.84210526 0.89473684 0.94736842 1.        ]\n",
      " [1.         1.05263158 1.10526316 1.15789474]\n",
      " [1.21052632 1.26315789 1.31578947 1.36842105]\n",
      " [1.42105263 1.47368421 1.52631579 1.57894737]\n",
      " [1.63157895 1.68421053 1.73684211 1.78947368]\n",
      " [1.84210526 1.89473684 1.94736842 2.        ]]\n"
     ]
    }
   ],
   "source": [
    "import numpy as np\n",
    "\n",
    "array1 = np.random.randint(0, 21, size=(5, 5))\n",
    "array2 = np.random.randint(0, 21, size=(5, 5))\n",
    "\n",
    "print(\"Array 1:\")\n",
    "print(array1)\n",
    "print(\"\\nArray 2:\")\n",
    "print(array2)\n",
    "\n",
    "matrix_product = np.matmul(array1, array2)\n",
    "dot_product = np.dot(array1.flatten(), array2.flatten())\n",
    "\n",
    "print(\"\\nMatrix Product:\")\n",
    "print(matrix_product)\n",
    "print(\"\\nDot Product:\")\n",
    "print(dot_product)\n",
    "\n",
    "det_array1 = np.linalg.det(array1)\n",
    "inv_array1 = np.linalg.inv(array1)\n",
    "det_array2 = np.linalg.det(array2)\n",
    "inv_array2 = np.linalg.inv(array2)\n",
    "\n",
    "print(\"\\nDeterminant of Array 1:\", det_array1)\n",
    "print(\"Inverse of Array 1:\")\n",
    "print(inv_array1)\n",
    "print(\"\\nDeterminant of Array 2:\", det_array2)\n",
    "print(\"Inverse of Array 2:\")\n",
    "print(inv_array2)\n",
    "\n",
    "array1d_1 = np.linspace(0, 1, 20)\n",
    "array1d_2 = np.linspace(1, 2, 20)\n",
    "\n",
    "combined_array = np.concatenate((array1d_1, array1d_2))\n",
    "\n",
    "reshaped_array = np.reshape(combined_array, (10, 4))\n",
    "\n",
    "print(\"\\nCombined 2D Array:\")\n",
    "print(reshaped_array)\n"
   ]
  }
 ],
 "metadata": {
  "kernelspec": {
   "display_name": "Python 3 (ipykernel)",
   "language": "python",
   "name": "python3"
  },
  "language_info": {
   "codemirror_mode": {
    "name": "ipython",
    "version": 3
   },
   "file_extension": ".py",
   "mimetype": "text/x-python",
   "name": "python",
   "nbconvert_exporter": "python",
   "pygments_lexer": "ipython3",
   "version": "3.11.5"
  }
 },
 "nbformat": 4,
 "nbformat_minor": 5
}
